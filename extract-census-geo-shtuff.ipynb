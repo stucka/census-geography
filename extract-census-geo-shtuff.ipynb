{
 "cells": [
  {
   "cell_type": "code",
   "execution_count": 1,
   "id": "91db2072",
   "metadata": {},
   "outputs": [],
   "source": [
    "from pyquery import PyQuery as pq\n",
    "import requests\n",
    "from tqdm import tqdm\n",
    "\n",
    "import csv\n",
    "from glob import glob\n",
    "from io import TextIOWrapper, BytesIO\n",
    "import os\n",
    "import zipfile"
   ]
  },
  {
   "cell_type": "code",
   "execution_count": 2,
   "id": "e6adbd07",
   "metadata": {},
   "outputs": [],
   "source": [
    "hosturl = \"https://www2.census.gov/programs-surveys/decennial/2020/data/01-Redistricting_File--PL_94-171/\"\n",
    "rawdatadir = \"rawdata/\"\n",
    "geofilesdir = \"geofiles/\"\n",
    "os.makedirs(rawdatadir, exist_ok=True)\n",
    "os.makedirs(geofilesdir, exist_ok=True)"
   ]
  },
  {
   "cell_type": "code",
   "execution_count": 3,
   "id": "8e936033",
   "metadata": {},
   "outputs": [],
   "source": [
    "# Headers are from https://www.census.gov/programs-surveys/decennial-census/about/rdo/summary-files/2020.html\n",
    "headersraw = \"\"\"FILEID STUSAB SUMLEV GEOVAR GEOCOMP CHARITER CIFSN LOGRECNO GEOID GEOCODE REGION DIVISION STATE STATENS COUNTY COUNTYCC COUNTYNS COUSUB COUSUBCC COUSUBNS SUBMCD SUBMCDCC SUBMCDNS ESTATE ESTATECC ESTATENS CONCIT CONCITCC CONCITNS PLACE PLACECC PLACENS TRACT BLKGRP BLOCK AIANHH AIHHTLI AIANHHFP AIANHHCC AIANHHNS AITS AITSFP AITSCC AITSNS TTRACT TBLKGRP ANRC ANRCCC ANRCNS CBSA MEMI CSA METDIV NECTA NMEMI CNECTA NECTADIV CBSAPCI NECTAPCI UA UATYPE UR CD116 CD118 CD119 CD120 CD121 SLDU18 SLDU22 SLDU24 SLDU26 SLDU28 SLDL18 SLDL22 SLDL24 SLDL26 SLDL28 VTD VTDI ZCTA SDELM SDSEC SDUNI PUMA AREALAND AREAWATR BASENAME NAME FUNCSTAT GCUNI POP100 HU100 INTPTLAT INTPTLON LSADC PARTFLAG UGA\"\"\"\n",
    "headers = headersraw.split()"
   ]
  },
  {
   "cell_type": "code",
   "execution_count": 4,
   "id": "79f8197e",
   "metadata": {},
   "outputs": [],
   "source": [
    "fieldswanted = \"FILEID STUSAB SUMLEV GEOVAR GEOCOMP CHARITER CIFSN LOGRECNO NAME GEOID GEOCODE STATE COUNTYCC POP100 INTPTLAT INTPTLON\".split()"
   ]
  },
  {
   "cell_type": "code",
   "execution_count": 5,
   "id": "eaedeee2",
   "metadata": {},
   "outputs": [],
   "source": [
    "r = requests.get(hosturl)"
   ]
  },
  {
   "cell_type": "code",
   "execution_count": 6,
   "id": "b76820bf",
   "metadata": {},
   "outputs": [],
   "source": [
    "html = r.content\n",
    "table = pq(html)(\"table\")"
   ]
  },
  {
   "cell_type": "code",
   "execution_count": 7,
   "id": "4933f35c",
   "metadata": {},
   "outputs": [],
   "source": [
    "# Try to identify the states, which have a / in the name, and come after national entries:\n",
    "seennational = False\n",
    "statedirs = []\n",
    "for link in pq(table)(\"a\"):\n",
    "    localurl = pq(link).attr(\"href\")\n",
    "    linktext = pq(link).text()\n",
    "    if \"National\" in linktext:\n",
    "        seennational = True\n",
    "    if seennational:\n",
    "        if \"/\" in linktext:    # If it's a directory, it's a state, and we want it:\n",
    "            statedirs.append(localurl)"
   ]
  },
  {
   "cell_type": "code",
   "execution_count": 8,
   "id": "3470b993",
   "metadata": {},
   "outputs": [
    {
     "name": "stderr",
     "output_type": "stream",
     "text": [
      "100%|██████████████████████████████████████████████████████████████████████████████████| 53/53 [00:21<00:00,  2.49it/s]\n"
     ]
    }
   ],
   "source": [
    "# Download the data, if we don't already have it\n",
    "\n",
    "for statedir in tqdm(statedirs):\n",
    "    r = requests.get(hosturl + statedir)\n",
    "    localhtml = r.content\n",
    "    for link in pq(localhtml)(\"a\"):\n",
    "        localurl = pq(link)(\"a\").attr(\"href\")\n",
    "        if localurl:\n",
    "            if \".pl.zip\" in localurl:\n",
    "                targetfilename = rawdatadir + localurl\n",
    "                if not os.path.exists(targetfilename):\n",
    "                    remoteurl = hosturl + statedir + localurl\n",
    "                    r = requests.get(remoteurl)\n",
    "                    if r.status_code != 200:\n",
    "                        print(f\"Error downloading {remoteurl}\")\n",
    "                    else:\n",
    "                        with open(targetfilename, \"wb\") as outfile:\n",
    "                            outfile.write(r.content)"
   ]
  },
  {
   "cell_type": "code",
   "execution_count": 12,
   "id": "8edf02b0",
   "metadata": {},
   "outputs": [
    {
     "name": "stderr",
     "output_type": "stream",
     "text": [
      "100%|██████████████████████████████████████████████████████████████████████████████████| 52/52 [06:16<00:00,  7.24s/it]\n"
     ]
    }
   ],
   "source": [
    "# For all of our downloaded ZIPs, look for the \"geo\" files\n",
    "for zipfilename in tqdm(glob(rawdatadir + \"*\")):\n",
    "    zipfilename = zipfilename.replace(\"\\\\\", \"/\")\n",
    "    basename = zipfilename.split(\"/\")[-1]\n",
    "    shortname = basename[:2]\n",
    "    with zipfile.ZipFile(zipfilename, mode=\"r\") as archive:\n",
    "        zipguts = archive.namelist()\n",
    "        for zipgut in zipguts:\n",
    "            if \"geo\" in zipgut:\n",
    "                with archive.open(zipgut) as file_contents:\n",
    "                    reader = csv.DictReader(TextIOWrapper(file_contents, 'latin-1'), delimiter=\"|\", fieldnames=headers)\n",
    "                    with open(geofilesdir + shortname + \".csv\", \"w\", newline=\"\", encoding=\"utf-8\") as outfile:\n",
    "                        writer = csv.writer(outfile)\n",
    "                        writer.writerow(fieldswanted)\n",
    "                        for row in reader:\n",
    "                            line = {}\n",
    "                            for fieldwanted in fieldswanted:\n",
    "                                line[fieldwanted] = row[fieldwanted]\n",
    "                            writer.writerow(list(line.values()))                        "
   ]
  },
  {
   "cell_type": "code",
   "execution_count": 13,
   "id": "a90e0584",
   "metadata": {},
   "outputs": [
    {
     "name": "stdout",
     "output_type": "stream",
     "text": [
      "{'FILEID': 'PLST', 'STUSAB': 'WY', 'SUMLEV': '970', 'GEOVAR': '00', 'GEOCOMP': '00', 'CHARITER': '000', 'CIFSN': '00', 'LOGRECNO': '0069393', 'NAME': 'Remainder of Wyoming', 'GEOID': '9700000US5699999', 'GEOCODE': '5699999', 'STATE': '56', 'COUNTYCC': '', 'POP100': '1558', 'INTPTLAT': '+42.9996722', 'INTPTLON': '-108.5029026'}\n"
     ]
    }
   ],
   "source": [
    "print(line)"
   ]
  },
  {
   "cell_type": "code",
   "execution_count": 14,
   "id": "cbe84c9d",
   "metadata": {},
   "outputs": [
    {
     "name": "stderr",
     "output_type": "stream",
     "text": [
      "100%|██████████████████████████████████████████████████████████████████████████████████| 52/52 [01:24<00:00,  1.62s/it]\n"
     ]
    }
   ],
   "source": [
    "shortfields = \"\"\"STUSAB SUMLEV GEOCODE NAME POP100 INTPTLAT INTPTLON\"\"\".split()\n",
    "lengthswanted = [2, 5]\n",
    "with open(\"geo-highlights.csv\", \"w\", newline=\"\", encoding=\"utf-8\") as outfile:\n",
    "    writer = csv.writer(outfile)\n",
    "    writer.writerow(shortfields)\n",
    "    for geofile in tqdm(glob(geofilesdir + \"*.csv\")):\n",
    "        with open(geofile, \"r\", encoding=\"utf-8\") as infile:\n",
    "            reader = list(csv.DictReader(infile))\n",
    "            for row in reader:\n",
    "                if len(row['GEOCODE']) in lengthswanted:\n",
    "                    line = {}\n",
    "                    for shortfield in shortfields:\n",
    "                        line[shortfield] = row[shortfield]\n",
    "                    writer.writerow(list(line.values()))"
   ]
  },
  {
   "cell_type": "code",
   "execution_count": null,
   "id": "19e94caf",
   "metadata": {},
   "outputs": [],
   "source": []
  }
 ],
 "metadata": {
  "kernelspec": {
   "display_name": "Python 3 (ipykernel)",
   "language": "python",
   "name": "python3"
  },
  "language_info": {
   "codemirror_mode": {
    "name": "ipython",
    "version": 3
   },
   "file_extension": ".py",
   "mimetype": "text/x-python",
   "name": "python",
   "nbconvert_exporter": "python",
   "pygments_lexer": "ipython3",
   "version": "3.10.6"
  }
 },
 "nbformat": 4,
 "nbformat_minor": 5
}
